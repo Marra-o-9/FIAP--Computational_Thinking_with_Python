{
 "cells": [
  {
   "attachments": {},
   "cell_type": "markdown",
   "metadata": {},
   "source": [
    "# Listas e Tuplas\n",
    "Tuplas são estruturas de dados similares às listas. A diferença se dá pelo fato dela não ser iterável, ou seja, o conteúdo dela é constante e não pode ser editado pelo programador nem pelo usuário.\n",
    "\n",
    "Enquanto os elementos de uma lista são delimitados entre colchetes, as tuplas são delimitadas entre parênteses."
   ]
  },
  {
   "cell_type": "code",
   "execution_count": 1,
   "metadata": {},
   "outputs": [
    {
     "name": "stdout",
     "output_type": "stream",
     "text": [
      "Lista:  [56, 'Fiap', True, 98.65]\n",
      "Tupla:  (56, 'Fiap', True, 98.65)\n",
      "posição 2 da lista: True\n",
      "posição 3 da tupla: 98.65\n"
     ]
    }
   ],
   "source": [
    "l = list() #cria uma lista vazia\n",
    "t = tuple() #cria uma tupla vazia\n",
    "lista = [56, \"Fiap\", True, 98.65]\n",
    "tupla = (56, \"Fiap\", True, 98.65)\n",
    "\n",
    "print(\"Lista: \", lista)\n",
    "print(\"Tupla: \", tupla)\n",
    "print(f\"posição 2 da lista: {lista[2]}\")\n",
    "print(f\"posição 3 da tupla: {tupla[3]}\")"
   ]
  },
  {
   "attachments": {},
   "cell_type": "markdown",
   "metadata": {},
   "source": [
    "**Exercício 1:**\n",
    "Inicie uma tupla com 5 valores e faça um procedimento para exibir o conteúdo desta tupla passada por parâmetro( elemento a elemento)."
   ]
  },
  {
   "cell_type": "code",
   "execution_count": 7,
   "metadata": {},
   "outputs": [
    {
     "name": "stdout",
     "output_type": "stream",
     "text": [
      "Charetti\n",
      "Fox\n",
      "Rike\n",
      "Marra\n",
      "Numeri\n",
      "Posição 0 = Charetti ou Charetti\n",
      "Posição 1 = Fox ou Fox\n",
      "Posição 2 = Rike ou Rike\n",
      "Posição 3 = Marra ou Marra\n",
      "Posição 4 = Numeri ou Numeri\n"
     ]
    }
   ],
   "source": [
    "#               0        1      2        3        4     <== índices\n",
    "tuplaex = (\"Charetti\", \"Fox\", \"Rike\", \"Marra\", \"Numeri\")\n",
    "\n",
    "\n",
    "def exibir_valores(tupla):\n",
    "    for elem in tupla:\n",
    "        print(elem)\n",
    "\n",
    "\n",
    "exibir_valores(tuplaex)\n",
    "\n",
    "#ou\n",
    "\n",
    "\n",
    "def exibir_valores2(tupla):\n",
    "    for indice, elem in enumerate(tupla):   #função enumerate retorna o elemento E o índice\n",
    "        print(f\"Posição {indice} = {elem} ou {tupla[indice]}\") #duas maneiras de exibir o valor\n",
    "\n",
    "\n",
    "exibir_valores2(tuplaex)"
   ]
  },
  {
   "attachments": {},
   "cell_type": "markdown",
   "metadata": {},
   "source": [
    "## Manipulação e fatiamento de strings | listas | tuplas\n",
    "Fatiar lista é selecionar parte dela.\n",
    "\n",
    "**Sintaxe:**\n",
    "```\n",
    "lista[início: fim: passo]\n",
    "```\n",
    "> Onde **início** é o primeiro elemento e **fim**          o último\n",
    "*(**fim** não o inclui)*"
   ]
  },
  {
   "cell_type": "code",
   "execution_count": 18,
   "metadata": {},
   "outputs": [
    {
     "name": "stdout",
     "output_type": "stream",
     "text": [
      "Lista completa = [10, 20, 30, 40, 50, 60, 70, 80, 90, 100]\n",
      "[10, 20, 30, 40, 50, 60, 70, 80, 90, 100] [40, 50, 60, 70]\n",
      "[60, 70, 80, 90, 100]\n",
      "Primeiro elemento: 10 - último 100\n",
      "[70, 80, 90]\n"
     ]
    }
   ],
   "source": [
    "#        -10  -9  -8  -7  -6  -5  -4  -3  -2  -1   <== índices negativos\n",
    "#          0   1   2   3   4   5   6   7   8   9   <== índices positivos\n",
    "numeros = [10, 20, 30, 40, 50, 60, 70, 80, 90, 100]\n",
    "print(f\"Lista completa = {numeros}\")\n",
    "\n",
    "new_numeros = numeros[3:7]  #criei uma nova lista à partir de outra existente, usando os índices 3 ao 7\n",
    "print(numeros, new_numeros)\n",
    "\n",
    "print(numeros[5:20]) #se o índice pedido ao programa não existir, ele parará no último índice (9)\n",
    "\n",
    "print(f\"Primeiro elemento: {numeros[0]} - último {numeros[-1]}\")  #índices negativos também funcionam\n",
    "\n",
    "#print(numeros[-1: -4])  #não exibirá nada\n",
    "print(numeros[-4: -1])"
   ]
  },
  {
   "cell_type": "code",
   "execution_count": 77,
   "metadata": {},
   "outputs": [
    {
     "name": "stdout",
     "output_type": "stream",
     "text": [
      "[10, 20, 30, 40, 50, 60, 70, 80, 90, 100]\n",
      "\n",
      "\n",
      "[20, 40, 60, 80]\n",
      "[10, 30, 50, 70, 90]\n",
      "[100, 90, 80, 70, 60, 50, 40, 30, 20, 10]\n",
      "[80, 70, 60, 50]\n"
     ]
    }
   ],
   "source": [
    "#lista[inicio: fim: passo]\n",
    "\n",
    "print(numeros[::])\n",
    "print(f\"\\n\")\n",
    "\n",
    "print(numeros[1:9:2])   #salta de 2 em 2\n",
    "print(numeros[::2])     #considerou os parâmetros vazios como início e fim\n",
    "print(numeros[::-1])    #ordem decrescente\n",
    "print(numeros[7:3:-1])  #ordem decrescente com seleção de início e fim"
   ]
  },
  {
   "attachments": {},
   "cell_type": "markdown",
   "metadata": {},
   "source": [
    "## Fatiando Strings\n",
    "\n",
    "String nada mais é do que uma **Lista de caracteres**.<br>\n",
    "Com strings o mecanismo é o mesmo das listas que vimos até então.<br>\n",
    "Cada caractere corresponde a um elemento da lista string."
   ]
  },
  {
   "cell_type": "code",
   "execution_count": 26,
   "metadata": {},
   "outputs": [
    {
     "name": "stdout",
     "output_type": "stream",
     "text": [
      "Agora veremos como funciona o fatiamento de string\n",
      "A g\n",
      " veremos\n",
      "gnirts ed otnemaitaf o anoicnuf omoc somerev arogA\n",
      "u mcsmrva\n",
      "Aoavrmscm ucoaoftaet esrn\n"
     ]
    }
   ],
   "source": [
    "frase = \"Agora veremos como funciona o fatiamento de string\"\n",
    "\n",
    "print(frase)\n",
    "print(frase[0], frase[1])\n",
    "print(frase[5:13])\n",
    "print(frase[::-1])\n",
    "print(frase[20:3:-2])\n",
    "print(frase[0::2])"
   ]
  },
  {
   "attachments": {},
   "cell_type": "markdown",
   "metadata": {},
   "source": [
    "**Exercício 2:**\n",
    "Faça uma função que conte quantas letras \"a\" ou \"A\" existem em uma string passada por parâmetro."
   ]
  },
  {
   "cell_type": "code",
   "execution_count": 29,
   "metadata": {},
   "outputs": [
    {
     "data": {
      "text/plain": [
       "6"
      ]
     },
     "execution_count": 29,
     "metadata": {},
     "output_type": "execute_result"
    }
   ],
   "source": [
    "frase_boa = \"Para de falar que tu é minha namorrr.\"\n",
    "\n",
    "def identificar_a(string):\n",
    "    contador = 0\n",
    "    for elem in string:\n",
    "        if elem == \"a\" or elem == \"A\":\n",
    "            contador += 1\n",
    "    return contador\n",
    "\n",
    "identificar_a(frase_boa)"
   ]
  },
  {
   "attachments": {},
   "cell_type": "markdown",
   "metadata": {},
   "source": [
    "## Método: find()\n",
    "Este método procura um trecho de string em uma outra maior, caso encontre, retorna o índice de início da \n",
    "primeira localização, se não encontrar, retorna -1."
   ]
  },
  {
   "cell_type": "code",
   "execution_count": 72,
   "metadata": {},
   "outputs": [
    {
     "name": "stdout",
     "output_type": "stream",
     "text": [
      "8\n",
      "4\n",
      "-1\n",
      "17\n"
     ]
    }
   ],
   "source": [
    "frase = \"Veremos agora os métodos de manipulação de strings.\"\n",
    "\n",
    "print(frase.find(\"agora\"))\n",
    "print(frase.find(\"m\"))\n",
    "print(frase.find(\"listas\"))\n",
    "print(frase.find(\"m\", 10, 20))"
   ]
  },
  {
   "attachments": {},
   "cell_type": "markdown",
   "metadata": {},
   "source": [
    "## Método: join(lista_string)\n",
    "O método join() pega uma lista contendo elementos strings e transforma em apenas uma string.<br>\n",
    "Em outras palavras, este método junta strings."
   ]
  },
  {
   "cell_type": "code",
   "execution_count": 65,
   "metadata": {},
   "outputs": [
    {
     "name": "stdout",
     "output_type": "stream",
     "text": [
      "Henrique Marra Barbosa\n",
      "Henrique-Marra-Barbosa\n",
      "Henrique|Marra|Barbosa\n"
     ]
    }
   ],
   "source": [
    "nome = [\"Henrique\", \"Marra\", \"Barbosa\"]\n",
    "\n",
    "print(\" \".join(nome))\n",
    "print(\"-\".join(nome))\n",
    "print(\"|\".join(nome))"
   ]
  },
  {
   "attachments": {},
   "cell_type": "markdown",
   "metadata": {},
   "source": [
    "## Método: split(string_separadora)\n",
    "O método join() pega uma lista contendo elementos strings e transforma em apenas uma string.<br>\n",
    "Em outras palavras, este método junta strings. Repare que ela extrai o texto passado por parâmetro."
   ]
  },
  {
   "cell_type": "code",
   "execution_count": 33,
   "metadata": {},
   "outputs": [
    {
     "name": "stdout",
     "output_type": "stream",
     "text": [
      "['Henrique', 'Marra', 'Barbosa']\n",
      "['Henrique Ma', 'a Barbosa']\n",
      "['Henrique Marra Barbosa']\n"
     ]
    }
   ],
   "source": [
    "nome = \"Henrique Marra Barbosa\"\n",
    "\n",
    "print(nome.split())\n",
    "print(nome.split(\"rr\"))\n",
    "print(nome.split(\"m\"))"
   ]
  },
  {
   "attachments": {},
   "cell_type": "markdown",
   "metadata": {},
   "source": [
    "## Método: replace(procura, troca, cont)\n",
    "Este método substitui em uma string uma substrings especificada por outra \"cont\" vezes solicitada."
   ]
  },
  {
   "cell_type": "code",
   "execution_count": 85,
   "metadata": {},
   "outputs": [
    {
     "name": "stdout",
     "output_type": "stream",
     "text": [
      "Henrique MArrA BArbosA\n",
      "Henrique Maha Barbosa\n",
      "Henrique|Marra|Barbosa\n"
     ]
    }
   ],
   "source": [
    "nome = \"Henrique Marra Barbosa\"\n",
    "\n",
    "nome_novo1 = nome.replace(\"a\", \"A\")\n",
    "print(nome_novo1)\n",
    "nome_novo2 = nome.replace(\"rr\", \"h\")\n",
    "print(nome_novo2)\n",
    "nome_novo3 = nome.replace(\" \", \"|\")\n",
    "print(nome_novo3)"
   ]
  },
  {
   "attachments": {},
   "cell_type": "markdown",
   "metadata": {},
   "source": [
    "## Método: strip()\n",
    "Este método elimina os eventuais espaços que existirem no início e final da string."
   ]
  },
  {
   "cell_type": "code",
   "execution_count": 38,
   "metadata": {},
   "outputs": [
    {
     "name": "stdout",
     "output_type": "stream",
     "text": [
      "O texto '   Strip elimina os espaços   ' tem o tamanho: 30.\n",
      "O texto 'Strip elimina os espaços' tem o tamanho: 24.\n"
     ]
    }
   ],
   "source": [
    "texto = \"   Strip elimina os espaços   \"\n",
    "\n",
    "tamanho_texto = len(texto)\n",
    "print(f\"O texto '{texto}' tem o tamanho: {tamanho_texto}.\")\n",
    "texto = texto.strip() # Elimina os espaços antes e depois do texto\n",
    "tamanho_texto_strip = len(texto)\n",
    "print(f\"O texto '{texto}' tem o tamanho: {tamanho_texto_strip}.\")"
   ]
  },
  {
   "attachments": {},
   "cell_type": "markdown",
   "metadata": {},
   "source": [
    "## Operador de identidade **in**:\n",
    "O operador in retorna True caso o valor comparado esteja contido em uma lista ou False caso não esteja."
   ]
  },
  {
   "cell_type": "code",
   "execution_count": 84,
   "metadata": {},
   "outputs": [
    {
     "name": "stdout",
     "output_type": "stream",
     "text": [
      "'3' está na lista.\n"
     ]
    }
   ],
   "source": [
    "num = 3\n",
    "if num in [1, 2, 3, 4, 5]:\n",
    "    print(f\"'{num}' está na lista.\")\n",
    "else:\n",
    "    print(f\"'{num}' NÃO está na lista.\")\n",
    "\n",
    "# if num == 1 or num == 2 or num == 3 or num == 4 or num == 5:"
   ]
  },
  {
   "attachments": {},
   "cell_type": "markdown",
   "metadata": {},
   "source": [
    "Outro exemplo utilizando string:"
   ]
  },
  {
   "cell_type": "code",
   "execution_count": 83,
   "metadata": {},
   "outputs": [
    {
     "name": "stdout",
     "output_type": "stream",
     "text": [
      "'Mimochandigos' NÃO está contido no nome 'Henrique Marra Barbosa'.\n"
     ]
    }
   ],
   "source": [
    "nome_completo = \"Henrique Marra Barbosa\"\n",
    "sobrenome = input(\"Digite o sobrenome: \")\n",
    "\n",
    "if sobrenome not in nome_completo:\n",
    "    print(f\"'{sobrenome}' NÃO está contido no nome '{nome_completo}'.\")\n",
    "else:\n",
    "    print(f\"'{sobrenome}' ESTÁ contido no nome '{nome_completo}'.\")"
   ]
  },
  {
   "attachments": {},
   "cell_type": "markdown",
   "metadata": {},
   "source": [
    "**Exercícios:**\n",
    "\n",
    "**1.** Faça um subalgoritmo que passe uma frase por parâmetro e analise: se ela tiver ponto a retorna, senão acrescenta ponto no final e a retorna.\n",
    "\n",
    "**2.** Faça um subalgoritmo que pegue uma frase e exiba cada palavra em uma linha.\n",
    "\n",
    "**3.** Dada uma lista preenchida com strings, faça um subalgoritmo que retorne quantos destes elementos podem ser do tipo lógico (True ou False).\n",
    "\n",
    "**4.** Faça uma subalgoritmo que retorne quantos elementos do texto podem ser convertidos para inteiro.\n",
    "\n",
    "**5.** Faça um procedimento que analise uma lista1 (do tipo string) e copie para uma lista2 (do tipo int) os valores inteiros da lista1."
   ]
  },
  {
   "cell_type": "code",
   "execution_count": 43,
   "metadata": {},
   "outputs": [
    {
     "name": "stdout",
     "output_type": "stream",
     "text": [
      "Esta frase não tem um ponto.\n",
      "Esta frase tem um ponto.\n"
     ]
    }
   ],
   "source": [
    "#Exercício 1:\n",
    "\n",
    "frase_ponto = \"Esta frase tem um ponto.\"\n",
    "frase_sem_ponto =\"Esta frase não tem um ponto.\"\n",
    "\n",
    "\n",
    "def colocar_ponto_final(frase):\n",
    "    if frase.find(\".\") == True:\n",
    "        return frase\n",
    "    else:\n",
    "        frase.join(\".\")\n",
    "        return frase\n",
    "\n",
    "\n",
    "print(colocar_ponto_final(frase_sem_ponto))\n",
    "print(colocar_ponto_final(frase_ponto))"
   ]
  },
  {
   "cell_type": "code",
   "execution_count": 49,
   "metadata": {},
   "outputs": [
    {
     "name": "stdout",
     "output_type": "stream",
     "text": [
      "Esta\n",
      "frase\n",
      "vai\n",
      "ser\n",
      "dividida.\n"
     ]
    }
   ],
   "source": [
    "#Exercício 2:\n",
    "\n",
    "frase_junta = \"Esta frase vai ser dividida.\"\n",
    "\n",
    "\n",
    "def dividir_frase(frase):\n",
    "    for elem in frase.split():\n",
    "        print(elem)\n",
    "\n",
    "\n",
    "dividir_frase(frase_junta)"
   ]
  },
  {
   "cell_type": "code",
   "execution_count": 63,
   "metadata": {},
   "outputs": [
    {
     "name": "stdout",
     "output_type": "stream",
     "text": [
      "2\n"
     ]
    }
   ],
   "source": [
    "#Exercício 3:\n",
    "\n",
    "lista = [\"Charetti\", \"Fox\", \"Rike\", \"Marra\", \"Numeri\", True, False]\n",
    "\n",
    "\n",
    "def verificar_booleano(lst):\n",
    "    contador = 0\n",
    "    for elem in lst:\n",
    "        if type(elem) == bool:\n",
    "            contador += 1\n",
    "    return contador\n",
    "\n",
    "\n",
    "print(verificar_booleano(lista))"
   ]
  },
  {
   "cell_type": "code",
   "execution_count": 71,
   "metadata": {},
   "outputs": [
    {
     "name": "stdout",
     "output_type": "stream",
     "text": [
      "1\n",
      "4\n"
     ]
    }
   ],
   "source": [
    "#Exercício 4:\n",
    "\n",
    "frase_int = \"Eu sou o 9.\"\n",
    "frase_int2 = \"Conseguimos 3000 seguimores.\"\n",
    "\n",
    "\n",
    "def elementos_int(frase):\n",
    "    contador = 0\n",
    "    for elem in frase:\n",
    "        if elem.isnumeric() == True:\n",
    "            contador += 1\n",
    "    return contador\n",
    "\n",
    "\n",
    "print(elementos_int(frase_int))\n",
    "print(elementos_int(frase_int2))"
   ]
  },
  {
   "cell_type": "code",
   "execution_count": 75,
   "metadata": {},
   "outputs": [
    {
     "name": "stdout",
     "output_type": "stream",
     "text": [
      "[1, 4, 5, 9]\n"
     ]
    }
   ],
   "source": [
    "#Exercício 5:\n",
    "\n",
    "lista1 = [\"1\", \"4\", \"5\", \"9\"]\n",
    "\n",
    "\n",
    "def capturar_numeros(lista):\n",
    "    lista2 = []\n",
    "    for elem in lista:\n",
    "        if elem.isnumeric() == True:\n",
    "            lista2.append(int(elem))\n",
    "    return lista2\n",
    "\n",
    "\n",
    "print(capturar_numeros(lista1))"
   ]
  }
 ],
 "metadata": {
  "kernelspec": {
   "display_name": "Python 3",
   "language": "python",
   "name": "python3"
  },
  "language_info": {
   "codemirror_mode": {
    "name": "ipython",
    "version": 3
   },
   "file_extension": ".py",
   "mimetype": "text/x-python",
   "name": "python",
   "nbconvert_exporter": "python",
   "pygments_lexer": "ipython3",
   "version": "3.11.4"
  },
  "orig_nbformat": 4
 },
 "nbformat": 4,
 "nbformat_minor": 2
}
