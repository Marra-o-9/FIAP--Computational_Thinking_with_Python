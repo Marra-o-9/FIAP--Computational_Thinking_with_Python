{
 "cells": [
  {
   "attachments": {},
   "cell_type": "markdown",
   "metadata": {},
   "source": [
    "# Manipulação de Arquivos\n",
    "\n",
    "### Abertura modo \"w\"\n",
    "Este modo permite abrir o arquivo para escrita.\n",
    "\n",
    "> Função open() - Função para abrir o arquivo\n",
    "\n",
    "SINTAXE:\n",
    "```\n",
    "    <objeto> = open(\"<arquivo_físico>\", \"<modo_abertura>\", ...)\n",
    "```\n",
    "objeto --> nome do arquivo utilizado dentro do programa<br>\n",
    "arquivo_físico --> nome do arquivo que será gravado no disco<br>\n",
    "modo_abertura --> forma em que o arquivo será aberto"
   ]
  },
  {
   "cell_type": "code",
   "execution_count": 8,
   "metadata": {},
   "outputs": [],
   "source": [
    "# Abre o arquivo em modo escrita\n",
    "\n",
    "arq = open(\"arq1.txt\", \"w\")\n",
    "\n",
    "# Grava as linhas do arquivo\n",
    "\n",
    "arq.write(\"Gravando a linha 1.\\n\")\n",
    "arq.write(\"Gravando a linha 2.\\n\")\n",
    "arq.write(\"Gravando a linha 3.\\n\")\n",
    "\n",
    "arq.close()"
   ]
  },
  {
   "cell_type": "code",
   "execution_count": 12,
   "metadata": {},
   "outputs": [],
   "source": [
    "# utf-8 faz o programa entender a linguagem ASCII com todas as acentuações\n",
    "\n",
    "arq = open(\"arq2.txt\", \"w\", encoding = \"utf-8\")\n",
    "\n",
    "for i in range(1, 11):\n",
    "    arq.write(f\"Gravação da linha {i}\\n\")\n",
    "\n",
    "arq.close()"
   ]
  },
  {
   "cell_type": "code",
   "execution_count": 20,
   "metadata": {},
   "outputs": [
    {
     "data": {
      "text/plain": [
       "20"
      ]
     },
     "execution_count": 20,
     "metadata": {},
     "output_type": "execute_result"
    }
   ],
   "source": [
    "# Gravando uma lista\n",
    "\n",
    "lista = [\"Marra\", 9, \"Numeri\"]\n",
    "\n",
    "arq = open(\"arq3.txt\", \"w\", encoding = \"utf-8\")\n",
    "\n",
    "arq.write(f\"Gravação da lista bruta: {lista}\\n\")\n",
    "arq.write(f\"Nome.......: {lista[0]}\\n\")\n",
    "arq.write(f\"Número.....: {lista[1]}\\n\")\n",
    "arq.write(f\"Banda......: {lista[2]}\\n\")\n",
    "\n",
    "arq.close()"
   ]
  },
  {
   "cell_type": "code",
   "execution_count": 23,
   "metadata": {},
   "outputs": [],
   "source": [
    "# Gravando um dicionário\n",
    "\n",
    "contato = {\n",
    "    \"nome\": \"Henrique Marra Barbosa\",\n",
    "    \"idade\": 20,\n",
    "    \"celular\": 11910303718\n",
    "}\n",
    "\n",
    "arq = open(\"arq4.txt\", \"w\", encoding = \"utf-8\")\n",
    "\n",
    "arq.write(f\"Gravando dicionário bruto: \\n{contato}\\n\")\n",
    "arq.write(f\"Nome.......: {contato['nome']}\\n\")\n",
    "arq.write(f\"Número.....: {contato['idade']}\\n\")\n",
    "arq.write(f\"Banda......: {contato['celular']}\\n\")\n",
    "\n",
    "arq.close()"
   ]
  },
  {
   "attachments": {},
   "cell_type": "markdown",
   "metadata": {},
   "source": [
    "### Abertura modo \"r\"\n",
    "Este modo permite abrir o arquivo para leitura."
   ]
  },
  {
   "cell_type": "code",
   "execution_count": 24,
   "metadata": {},
   "outputs": [
    {
     "name": "stdout",
     "output_type": "stream",
     "text": [
      "Gravando dicionário bruto: \n",
      "{'nome': 'Henrique Marra Barbosa', 'idade': 20, 'celular': 11910303718}\n",
      "Nome.......: Henrique Marra Barbosa\n",
      "Número.....: 20\n",
      "Banda......: 11910303718\n",
      "\n"
     ]
    }
   ],
   "source": [
    "# Lendo o arquivo\n",
    "\n",
    "arq = open(\"arq4.txt\", \"r\", encoding = \"utf-8\")\n",
    "\n",
    "print(arq.read())   # read carrega o arquivo integral\n",
    "\n",
    "arq.close()"
   ]
  },
  {
   "attachments": {},
   "cell_type": "markdown",
   "metadata": {},
   "source": [
    "*Exercício:* usar o try except para tratar o erro de não existir o arquivo"
   ]
  },
  {
   "cell_type": "code",
   "execution_count": null,
   "metadata": {},
   "outputs": [],
   "source": [
    "try:\n",
    "    ...\n",
    "except:\n",
    "    ..."
   ]
  },
  {
   "attachments": {},
   "cell_type": "markdown",
   "metadata": {},
   "source": [
    "### Abertura modo \"a\"\n",
    "Este modo permite abrir o arquivo para edição."
   ]
  },
  {
   "cell_type": "code",
   "execution_count": 25,
   "metadata": {},
   "outputs": [
    {
     "name": "stdout",
     "output_type": "stream",
     "text": [
      "Gravando dicionário bruto: \n",
      "{'nome': 'Henrique Marra Barbosa', 'idade': 20, 'celular': 11910303718}\n",
      "Nome.......: Henrique Marra Barbosa\n",
      "Número.....: 20\n",
      "Banda......: 11910303718\n",
      "Inserindo uma nova linha\n"
     ]
    }
   ],
   "source": [
    "# Editando o arquivo\n",
    "\n",
    "arq = open(\"arq4.txt\", \"a\", encoding = \"utf-8\")\n",
    "\n",
    "arq.write(\"Inserindo uma nova linha\")\n",
    "\n",
    "arq.close()\n",
    "\n",
    "# Conferindo mudança\n",
    "\n",
    "arq = open(\"arq4.txt\", \"r\", encoding = \"utf-8\")\n",
    "\n",
    "print(arq.read())\n",
    "\n",
    "arq.close()"
   ]
  },
  {
   "attachments": {},
   "cell_type": "markdown",
   "metadata": {},
   "source": [
    "### Abertura modo \"x\"\n",
    "Este modo permite abrir o arquivo para escrita com exclusividade."
   ]
  },
  {
   "cell_type": "code",
   "execution_count": 26,
   "metadata": {},
   "outputs": [],
   "source": [
    "# Gravando arquivo com exclusividade\n",
    "\n",
    "arq = open(\"arq5.txt\", \"x\", encoding = \"utf-8\")\n",
    "\n",
    "arq.write(\"Inserindo uma nova linha\")\n",
    "\n",
    "arq.close()"
   ]
  },
  {
   "attachments": {},
   "cell_type": "markdown",
   "metadata": {},
   "source": [
    "### Aberturas mistas"
   ]
  },
  {
   "cell_type": "code",
   "execution_count": 27,
   "metadata": {},
   "outputs": [
    {
     "name": "stdout",
     "output_type": "stream",
     "text": [
      "Inserindo uma nova linha\n"
     ]
    }
   ],
   "source": [
    "# Abertura \"w\" e \"x\"\n",
    "\n",
    "arq = open(\"arq6.txt\", \"w+\", encoding = \"utf-8\")  # + simboliza \"x\"\n",
    "\n",
    "arq.write(\"Inserindo uma nova linha\")\n",
    "arq.flush()  # Atualiza a memória do pc\n",
    "arq.seek(0)  # Mudando a posição do cursor para o começo\n",
    "\n",
    "print(arq.read())\n",
    "\n",
    "arq.close()"
   ]
  },
  {
   "attachments": {},
   "cell_type": "markdown",
   "metadata": {},
   "source": [
    "## Métodos para Manipulação de Arquivos\n",
    "\n",
    ">.readline()"
   ]
  },
  {
   "cell_type": "code",
   "execution_count": 52,
   "metadata": {},
   "outputs": [
    {
     "name": "stdout",
     "output_type": "stream",
     "text": [
      "Gravando a linha 1.\n",
      "\n"
     ]
    }
   ],
   "source": [
    "arq = open(\"arq7.txt\", \"w+\")\n",
    "\n",
    "arq.write(\"Gravando a linha 1.\\n\")\n",
    "arq.write(\"Gravando a linha 2.\\n\")\n",
    "arq.write(\"Gravando a linha 3.\\n\")\n",
    "\n",
    "arq.seek(0)\n",
    "\n",
    "print(arq.readline())\n",
    "\n",
    "arq.close()"
   ]
  },
  {
   "attachments": {},
   "cell_type": "markdown",
   "metadata": {},
   "source": [
    "*Exercício:* como exibir somente a linha 3 usando readline?"
   ]
  },
  {
   "cell_type": "code",
   "execution_count": 71,
   "metadata": {},
   "outputs": [
    {
     "name": "stdout",
     "output_type": "stream",
     "text": [
      "20\n",
      "Gravando a linha 2.\n",
      "\n",
      "Gravando a linha 3.\n",
      "\n"
     ]
    }
   ],
   "source": [
    "arq = open(\"arq7.txt\", \"r\")\n",
    "\n",
    "arq.seek(0)\n",
    "\n",
    "tamanho_linha = len(arq.readline())\n",
    "print(tamanho_linha)\n",
    "\n",
    "arq.seek(tamanho_linha + 1)\n",
    "print(arq.readline())\n",
    "\n",
    "arq.seek(tamanho_linha * 2 + 2)\n",
    "print(arq.readline())\n",
    "\n",
    "arq.close()"
   ]
  },
  {
   "attachments": {},
   "cell_type": "markdown",
   "metadata": {},
   "source": [
    "> .readlines()"
   ]
  },
  {
   "cell_type": "code",
   "execution_count": 75,
   "metadata": {},
   "outputs": [
    {
     "name": "stdout",
     "output_type": "stream",
     "text": [
      "['Gravando a linha 1.\\n', 'Gravando a linha 2.\\n', 'Gravando a linha 3.\\n']\n",
      "Gravando a linha 3.\n",
      "\n"
     ]
    }
   ],
   "source": [
    "arq = open(\"arq8.txt\", \"r+\")\n",
    "\n",
    "arq.write(\"Gravando a linha 1.\\n\")\n",
    "arq.write(\"Gravando a linha 2.\\n\")\n",
    "arq.write(\"Gravando a linha 3.\\n\")\n",
    "\n",
    "arq.seek(0)\n",
    "\n",
    "linhas = arq.readlines()\n",
    "\n",
    "print(linhas)\n",
    "print(linhas[2])\n",
    "\n",
    "arq.close()"
   ]
  },
  {
   "attachments": {},
   "cell_type": "markdown",
   "metadata": {},
   "source": [
    "*Exercício:* Grave diversas linhas em um arquivo e apresente na tela somente as linhas que contenham mais do que 20 bytes. No final de cada linha exibir entre parênteses o tamanho da linha exibida."
   ]
  },
  {
   "cell_type": "code",
   "execution_count": null,
   "metadata": {},
   "outputs": [],
   "source": []
  }
 ],
 "metadata": {
  "kernelspec": {
   "display_name": "Python 3",
   "language": "python",
   "name": "python3"
  },
  "language_info": {
   "codemirror_mode": {
    "name": "ipython",
    "version": 3
   },
   "file_extension": ".py",
   "mimetype": "text/x-python",
   "name": "python",
   "nbconvert_exporter": "python",
   "pygments_lexer": "ipython3",
   "version": "3.11.4"
  },
  "orig_nbformat": 4
 },
 "nbformat": 4,
 "nbformat_minor": 2
}
