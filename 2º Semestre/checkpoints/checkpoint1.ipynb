{
 "cells": [
  {
   "cell_type": "markdown",
   "metadata": {},
   "source": [
    "# Checkpoint 1\n",
    "Henrique Marra Barbosa - 97672 <br>\n",
    ">*Subalgoritmos:*"
   ]
  },
  {
   "cell_type": "code",
   "execution_count": 4,
   "metadata": {},
   "outputs": [],
   "source": [
    "def converte_vogais_maiusculo(frase):\n",
    "    frase_nova = \"\"\n",
    "    for elem in frase:\n",
    "        if elem in \"aeiou\":\n",
    "            frase_nova += elem.upper()\n",
    "        else:\n",
    "            frase_nova += elem\n",
    "    return print(frase_nova)\n",
    "\n",
    "\n",
    "def isfloat(numero):\n",
    "    contador = 0\n",
    "    for elem in numero:\n",
    "        if elem == \".\":\n",
    "            contador += 1\n",
    "        if contador > 1:\n",
    "            return False\n",
    "    if numero.replace(\".\", \"\").isnumeric() == True:\n",
    "        return True\n",
    "    else:\n",
    "        return False"
   ]
  },
  {
   "cell_type": "markdown",
   "metadata": {},
   "source": [
    ">*Programa Principal:*"
   ]
  },
  {
   "cell_type": "code",
   "execution_count": 5,
   "metadata": {},
   "outputs": [
    {
     "name": "stdout",
     "output_type": "stream",
     "text": [
      "10.10.10 NÃO é float.\n",
      "10 É float.\n",
      "10. É float.\n",
      "10,0 NÃO é float.\n",
      "Marra NÃO é float.\n",
      "OI bOA tArdEEEE, EstOU tErmInAndO A AtIvIdAdE.\n"
     ]
    }
   ],
   "source": [
    "while True:\n",
    "    menu = input(f\"\"\"0 - Sair\n",
    "          1 - Converte Vogais\n",
    "          2 - Verificar Float\n",
    "          \"\"\")\n",
    "    match menu:\n",
    "        case \"0\":\n",
    "            break\n",
    "        case \"1\":\n",
    "            frase_user = input(\"Digite uma frase: \")\n",
    "            converte_vogais_maiusculo(frase_user)\n",
    "        case \"2\":\n",
    "            numero_user = input(\"Digite um número: \")\n",
    "            if isfloat(numero_user) == True:\n",
    "                print(f\"{numero_user} É float.\")\n",
    "            else:\n",
    "                print(f\"{numero_user} NÃO é float.\")\n",
    "        case _:\n",
    "            print(\"Digite uma opção válida!\")"
   ]
  }
 ],
 "metadata": {
  "kernelspec": {
   "display_name": "Python 3",
   "language": "python",
   "name": "python3"
  },
  "language_info": {
   "codemirror_mode": {
    "name": "ipython",
    "version": 3
   },
   "file_extension": ".py",
   "mimetype": "text/x-python",
   "name": "python",
   "nbconvert_exporter": "python",
   "pygments_lexer": "ipython3",
   "version": "3.11.2"
  },
  "orig_nbformat": 4
 },
 "nbformat": 4,
 "nbformat_minor": 2
}
