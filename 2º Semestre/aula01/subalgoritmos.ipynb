{
 "cells": [
  {
   "attachments": {},
   "cell_type": "markdown",
   "metadata": {},
   "source": [
    "# Apresentação do Jupyter\n",
    "\n",
    "**Deixando em negrito**\n",
    "\n",
    "```\n",
    "def soma(n1, n2): <br>\n",
    "    return (n1 + n2)\n",
    "```\n",
    "\n",
    "```python\n",
    "def soma(n1, n2): <br>\n",
    "    return (n1 + n2)\n",
    "```"
   ]
  },
  {
   "attachments": {},
   "cell_type": "markdown",
   "metadata": {},
   "source": [
    "## Parâmetros Default - Subalgoritmos\n",
    "\n",
    "Este tipo de parâmetro serve para assumir um valor padrão no parâmetro, quando não definimos um.\n",
    "\n",
    "**Sintaxe** \n",
    "```\n",
    "def nome_subalgoritmo (parametros = valor_default) -> tipo_retorno:\n",
    "    corpo_subalgoritmo\n",
    "    return valor\n",
    "```\n",
    "\n",
    "**Exemplo:**\n",
    "Este procedimento exibe uma saudação a partir do nome enviado por parâmetro"
   ]
  },
  {
   "cell_type": "code",
   "execution_count": 6,
   "metadata": {},
   "outputs": [
    {
     "name": "stdout",
     "output_type": "stream",
     "text": [
      "Bom dia, Usuário\n",
      "Boa tarde, Marra\n",
      "Bom dia, Usuário\n",
      "Bom dia, Marra\n"
     ]
    }
   ],
   "source": [
    "def saudacao(mensagem = \"Bom dia\", nome = \"Usuário\"):   #recurso para minimizar erros, padronizar os parâmetros iniciais\n",
    "    print(f\"{mensagem}, {nome}\")\n",
    "\n",
    "saudacao(\"Bom dia\")\n",
    "saudacao(\"Boa tarde\", \"Marra\")\n",
    "saudacao()\n",
    "saudacao(nome = \"Marra\")    #recurso para mudar um parâmetro específico"
   ]
  },
  {
   "attachments": {},
   "cell_type": "markdown",
   "metadata": {},
   "source": [
    "**Exercício:**\n",
    "Fazer uma função que retorne o maior entre 3 números passados por parâmetro. Os valores padrões são 1, 2 e 3."
   ]
  },
  {
   "cell_type": "code",
   "execution_count": 11,
   "metadata": {},
   "outputs": [
    {
     "name": "stdout",
     "output_type": "stream",
     "text": [
      "10\n",
      "3\n",
      "9\n",
      "12\n"
     ]
    }
   ],
   "source": [
    "def maior_entre(n1 = 1, n2 = 2, n3 = 3):\n",
    "    if n1 > n2 and n1 > n3:\n",
    "        return n1\n",
    "    elif n2 > n1 and n2 > n3:\n",
    "        return n2\n",
    "    else:\n",
    "        return n3\n",
    "\n",
    "print(maior_entre(10, 5, 1))\n",
    "print(maior_entre())\n",
    "print(maior_entre(4, 9, 5))\n",
    "print(maior_entre(n2 = 12))"
   ]
  },
  {
   "attachments": {},
   "cell_type": "markdown",
   "metadata": {},
   "source": [
    "## Parâmetros do tipo *args\n",
    "O parâmetro do tipo *args permite que passemos um número não definido de parâmetros.\n",
    "<br>\n",
    "\n",
    "**Sintaxe:**\n",
    "```\n",
    "def nome_subalgoritmo (*args) -> tipo_retorno:\n",
    "    corpo_subalgoritmo\n",
    "    return retorno\n",
    "```"
   ]
  },
  {
   "cell_type": "code",
   "execution_count": 12,
   "metadata": {},
   "outputs": [
    {
     "name": "stdout",
     "output_type": "stream",
     "text": [
      "15\n"
     ]
    }
   ],
   "source": [
    "def soma_numeros(n1, n2):\n",
    "    return n1 + n2\n",
    "\n",
    "print(soma_numeros(6, 9))"
   ]
  },
  {
   "attachments": {},
   "cell_type": "markdown",
   "metadata": {},
   "source": [
    "### Utilizando *args"
   ]
  },
  {
   "cell_type": "code",
   "execution_count": 15,
   "metadata": {},
   "outputs": [
    {
     "name": "stdout",
     "output_type": "stream",
     "text": [
      "165\n",
      "19\n",
      "15\n"
     ]
    }
   ],
   "source": [
    "def soma_numeros2(*args): #o args passa a ser uma lista\n",
    "    soma = 0\n",
    "    for valor in args:  #valor é o item da lista que será somado com base nos \"ciclos\" do for\n",
    "        soma = soma + valor\n",
    "    return soma\n",
    "\n",
    "print(soma_numeros2(56, 76, 33)) #args deu 3 voltas para somar os 3 números da lista\n",
    "print(soma_numeros2(1, 4, 5, 9))\n",
    "print(soma_numeros2(1, 2, 3, 4, 5))"
   ]
  },
  {
   "attachments": {},
   "cell_type": "markdown",
   "metadata": {},
   "source": [
    "**Exercício:**\n",
    "Utilizando o parâmetro *args, faça uma função que calcule a média de N números."
   ]
  },
  {
   "cell_type": "code",
   "execution_count": 25,
   "metadata": {},
   "outputs": [
    {
     "data": {
      "text/plain": [
       "5.0"
      ]
     },
     "execution_count": 25,
     "metadata": {},
     "output_type": "execute_result"
    }
   ],
   "source": [
    "def media_numeros(*args):\n",
    "    soma_numeros = sum(args)\n",
    "    media = soma_numeros / len(args)\n",
    "    return media\n",
    "\n",
    "media_numeros(5, 5, 5)\n"
   ]
  },
  {
   "attachments": {},
   "cell_type": "markdown",
   "metadata": {},
   "source": [
    "## Subalgotirmo Encadeado\n",
    "**Exemplo:** Fazer uma função que calcule a média dos checkpoints de um aluno da FIAP."
   ]
  },
  {
   "cell_type": "code",
   "execution_count": 27,
   "metadata": {},
   "outputs": [
    {
     "name": "stdout",
     "output_type": "stream",
     "text": [
      "11\n"
     ]
    }
   ],
   "source": [
    "#Função Primária\n",
    "def media_checkpoint(n1, n2, n3):\n",
    "\n",
    "    #Função Secundária\n",
    "    def menor_valor(n1, n2, n3):\n",
    "\n",
    "        #Corpo Secundária\n",
    "        if n1 < n2 and n1 < n3:\n",
    "            return n1\n",
    "        elif n2 < n1 and n2 < n3:\n",
    "            return n2\n",
    "        else:\n",
    "            return n3\n",
    "        \n",
    "    #Corpo Primária\n",
    "    media = (n1 + n2 + n3 - menor_valor(n1, n2, n3))\n",
    "    return media\n",
    "\n",
    "#Chamada da Função\n",
    "print(media_checkpoint(4, 5, 6))"
   ]
  },
  {
   "attachments": {},
   "cell_type": "markdown",
   "metadata": {},
   "source": [
    "**Exercício:** Fazer uma função que calcule a média de 3 números utilizando o conceito de subalgoritmo primário e secundário."
   ]
  },
  {
   "cell_type": "code",
   "execution_count": 33,
   "metadata": {},
   "outputs": [
    {
     "data": {
      "text/plain": [
       "6.0"
      ]
     },
     "execution_count": 33,
     "metadata": {},
     "output_type": "execute_result"
    }
   ],
   "source": [
    "def media_numeros_encadeado(n1, n2, n3):\n",
    "    def soma_numeros_encadeado(n1, n2, n3):\n",
    "        soma = n1 + n2 + n3\n",
    "        return soma\n",
    "    media = soma_numeros_encadeado(n1, n2, n3) / 3\n",
    "    return media\n",
    "\n",
    "print(media_numeros_encadeado(1, 2, 3))\n",
    "print(media_numeros_encadeado(10, 5, 3))"
   ]
  }
 ],
 "metadata": {
  "kernelspec": {
   "display_name": "Python 3",
   "language": "python",
   "name": "python3"
  },
  "language_info": {
   "codemirror_mode": {
    "name": "ipython",
    "version": 3
   },
   "file_extension": ".py",
   "mimetype": "text/x-python",
   "name": "python",
   "nbconvert_exporter": "python",
   "pygments_lexer": "ipython3",
   "version": "3.11.4"
  },
  "orig_nbformat": 4
 },
 "nbformat": 4,
 "nbformat_minor": 2
}
