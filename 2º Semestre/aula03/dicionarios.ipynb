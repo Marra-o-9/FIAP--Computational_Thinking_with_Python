{
 "cells": [
  {
   "attachments": {},
   "cell_type": "markdown",
   "metadata": {},
   "source": [
    "# Dicionários\n",
    "\n",
    "Dicionários são estruturas de dados que trabalham com keys (campos) ao invés de índices.<br>\n",
    "Colocamos toda estrutura entre chaves. Os campos (keys) e valores (values) são separados por dois pontos (:)."
   ]
  },
  {
   "attachments": {},
   "cell_type": "markdown",
   "metadata": {},
   "source": [
    ">Criando um dicionário vazio:"
   ]
  },
  {
   "cell_type": "code",
   "execution_count": 2,
   "metadata": {},
   "outputs": [
    {
     "name": "stdout",
     "output_type": "stream",
     "text": [
      "{'nome': 'Henrique Marra Barbosa', 'idade': 20, 'teste': 'excluir'}\n",
      "Henrique Marra Barbosa\n",
      "20\n"
     ]
    }
   ],
   "source": [
    "dados = {} # ou dados = dict()\n",
    "\n",
    "dados = {\n",
    "    \"nome\": \"Henrique Marra Barbosa\",   #separar por vírgulas\n",
    "    \"idade\": 20,\n",
    "    \"teste\": \"excluir\"\n",
    "}\n",
    "\n",
    "\n",
    "print(dados)\n",
    "print(dados[\"nome\"])\n",
    "print(dados[\"idade\"])"
   ]
  },
  {
   "attachments": {},
   "cell_type": "markdown",
   "metadata": {},
   "source": [
    ">Acrescentando uma key (campo):"
   ]
  },
  {
   "cell_type": "code",
   "execution_count": 3,
   "metadata": {},
   "outputs": [
    {
     "name": "stdout",
     "output_type": "stream",
     "text": [
      "{'nome': 'Henrique Marra Barbosa', 'idade': 20, 'teste': 'excluir'}\n",
      "{'nome': 'Henrique Marra Barbosa', 'idade': 20, 'teste': 'excluir', 'email': 'marrabarbosa9@gmail.com'}\n"
     ]
    }
   ],
   "source": [
    "# Adicionando um campo ao dicionário\n",
    "print(dados)\n",
    "dados[\"email\"] = \"marrabarbosa9@gmail.com\"\n",
    "print(dados)"
   ]
  },
  {
   "attachments": {},
   "cell_type": "markdown",
   "metadata": {},
   "source": [
    ">Excluindo uma key:"
   ]
  },
  {
   "cell_type": "code",
   "execution_count": 4,
   "metadata": {},
   "outputs": [
    {
     "name": "stdout",
     "output_type": "stream",
     "text": [
      "{'nome': 'Henrique Marra Barbosa', 'idade': 20, 'teste': 'excluir', 'email': 'marrabarbosa9@gmail.com'}\n",
      "{'nome': 'Henrique Marra Barbosa', 'idade': 20, 'email': 'marrabarbosa9@gmail.com'}\n"
     ]
    }
   ],
   "source": [
    "print(dados)\n",
    "del dados[\"teste\"]  \n",
    "print(dados)"
   ]
  },
  {
   "attachments": {},
   "cell_type": "markdown",
   "metadata": {},
   "source": [
    ">Exibindo os campos, valores:"
   ]
  },
  {
   "cell_type": "code",
   "execution_count": 5,
   "metadata": {},
   "outputs": [
    {
     "name": "stdout",
     "output_type": "stream",
     "text": [
      "Nome..........: Henrique Marra Barbosa\n",
      "Idade.........: 20\n",
      "Email.........: marrabarbosa9@gmail.com\n"
     ]
    }
   ],
   "source": [
    "print(f\"Nome..........: {dados['nome']}\")\n",
    "print(f\"Idade.........: {dados['idade']}\")\n",
    "print(f\"Email.........: {dados['email']}\")"
   ]
  },
  {
   "attachments": {},
   "cell_type": "markdown",
   "metadata": {},
   "source": [
    "## Métodos relacionados a dicionários\n",
    "\n",
    ">values()<br>\n",
    "\n",
    "O método values mostra todos os valores contidos no dicionário."
   ]
  },
  {
   "cell_type": "code",
   "execution_count": 6,
   "metadata": {},
   "outputs": [
    {
     "name": "stdout",
     "output_type": "stream",
     "text": [
      "Valores do dicionário: dict_values(['Henrique Marra Barbosa', 20, 'marrabarbosa9@gmail.com'])\n",
      "dict_values(['Henrique Marra Barbosa', 20, 'marrabarbosa9@gmail.com'])\n",
      "['Henrique Marra Barbosa', 20, 'marrabarbosa9@gmail.com']\n",
      "Henrique Marra Barbosa\n"
     ]
    }
   ],
   "source": [
    "print(f\"Valores do dicionário: {dados.values()}\")   #retorna os valores como se fosse uma lista\n",
    "\n",
    "lista = dados.values()   #colocou os valores em uma variável (ainda considera como dicionário)\n",
    "print(lista)\n",
    "\n",
    "lista = list(dados.values())   #definiu os valores como lista definitivamente\n",
    "print(lista)\n",
    "print(lista[0])"
   ]
  },
  {
   "attachments": {},
   "cell_type": "markdown",
   "metadata": {},
   "source": [
    ">keys()<br>\n",
    "\n",
    "O método keys mostra o nome de todos os campos (keys)."
   ]
  },
  {
   "cell_type": "code",
   "execution_count": 7,
   "metadata": {},
   "outputs": [
    {
     "name": "stdout",
     "output_type": "stream",
     "text": [
      "Campos do dicionário: dict_keys(['nome', 'idade', 'email'])\n"
     ]
    }
   ],
   "source": [
    "print(f\"Campos do dicionário: {dados.keys()}\")  #retorna os nomes dos \"índices\" do dicionário"
   ]
  },
  {
   "attachments": {},
   "cell_type": "markdown",
   "metadata": {},
   "source": [
    ">items()<br>\n",
    "\n",
    "O método items retorna tanto a key quanto o value (campos e valores respectivamente)."
   ]
  },
  {
   "cell_type": "code",
   "execution_count": 8,
   "metadata": {},
   "outputs": [
    {
     "name": "stdout",
     "output_type": "stream",
     "text": [
      "{'nome': 'Henrique Marra Barbosa', 'idade': 20, 'email': 'marrabarbosa9@gmail.com'}\n",
      "dict_items([('nome', 'Henrique Marra Barbosa'), ('idade', 20), ('email', 'marrabarbosa9@gmail.com')])\n"
     ]
    }
   ],
   "source": [
    "print(dados)\n",
    "print(dados.items())"
   ]
  },
  {
   "attachments": {},
   "cell_type": "markdown",
   "metadata": {},
   "source": [
    "#### Exemplos:"
   ]
  },
  {
   "cell_type": "code",
   "execution_count": 9,
   "metadata": {},
   "outputs": [
    {
     "name": "stdout",
     "output_type": "stream",
     "text": [
      "{'nome': 'Henrique Marra Barbosa', 'idade': 20, 'email': 'marrabarbosa9@gmail.com'}\n",
      "\n",
      "Nome..........: Henrique Marra Barbosa\n",
      "Idade.........: 20\n",
      "Email.........: marrabarbosa9@gmail.com\n",
      "\n",
      "O campo 'nome' tem o conteúdo 'Henrique Marra Barbosa'\n",
      "O campo 'idade' tem o conteúdo '20'\n",
      "O campo 'email' tem o conteúdo 'marrabarbosa9@gmail.com'\n",
      "\n",
      "nome: Henrique Marra Barbosa\n",
      "idade: 20\n",
      "email: marrabarbosa9@gmail.com\n",
      "instagram: @marra_o_9\n"
     ]
    }
   ],
   "source": [
    "# Exibindo o dicionário bruto\n",
    "print(dados)\n",
    "\n",
    "# Exibindo elemento a elemento\n",
    "print(f\"\\nNome..........: {dados['nome']}\")\n",
    "print(f\"Idade.........: {dados['idade']}\")\n",
    "print(f\"Email.........: {dados['email']}\\n\")\n",
    "\n",
    "# Exibindo captura de elementos\n",
    "for key, value in dados.items():\n",
    "    print(f\"O campo '{key}' tem o conteúdo '{value}'\")\n",
    "\n",
    "print()\n",
    "dados[\"instagram\"] = \"@marra_o_9\"\n",
    "for key, value in dados.items():\n",
    "    print(f\"{key}: {value}\")"
   ]
  },
  {
   "attachments": {},
   "cell_type": "markdown",
   "metadata": {},
   "source": [
    "## Exercícios:\n",
    "\n",
    "Crie um dicionário com 5 campos a sua escolha (preferencialmente use tipos diferente) e faça as seguintes operações:\n",
    "```\n",
    "1 - Exibir todo o conteúdo do dicionário\n",
    "2 - Inserir um campo no dicionário\n",
    "3 - Alterar o valor de um campo\n",
    "4 - Exibir um campo específico\n",
    "5 - Remover um campo específico\n",
    "```"
   ]
  },
  {
   "cell_type": "code",
   "execution_count": 2,
   "metadata": {},
   "outputs": [],
   "source": [
    "dicionumeri = {}\n",
    "dicionumeri = {\n",
    "    \"banda\": \"Numeri\",\n",
    "    \"autorais_gravadas\": 3,\n",
    "    \"instagram\": \"numeri_oficial\",\n",
    "    \"lançamento_perspectivas\": False,\n",
    "    \"integrantes\": 4\n",
    "}"
   ]
  },
  {
   "cell_type": "code",
   "execution_count": 11,
   "metadata": {},
   "outputs": [
    {
     "name": "stdout",
     "output_type": "stream",
     "text": [
      "{'banda': 'Numeri', 'autorais_gravadas': 3, 'instagram': 'numeri_oficial', 'lançamento_perspectivas': False, 'integrantes': 4}\n"
     ]
    }
   ],
   "source": [
    "#1\n",
    "print(dicionumeri)"
   ]
  },
  {
   "cell_type": "code",
   "execution_count": 12,
   "metadata": {},
   "outputs": [
    {
     "name": "stdout",
     "output_type": "stream",
     "text": [
      "{'banda': 'Numeri', 'autorais_gravadas': 3, 'instagram': 'numeri_oficial', 'lançamento_perspectivas': False, 'integrantes': 4, 'autorais_producao': 12}\n"
     ]
    }
   ],
   "source": [
    "#2\n",
    "dicionumeri[\"autorais_producao\"] = 12\n",
    "print(dicionumeri)"
   ]
  },
  {
   "cell_type": "code",
   "execution_count": 13,
   "metadata": {},
   "outputs": [
    {
     "name": "stdout",
     "output_type": "stream",
     "text": [
      "{'banda': 'Numeri', 'autorais_gravadas': 3, 'instagram': 'numeri_oficial', 'lançamento_perspectivas': True, 'integrantes': 4, 'autorais_producao': 12}\n"
     ]
    }
   ],
   "source": [
    "#3\n",
    "dicionumeri[\"lançamento_perspectivas\"] = True\n",
    "print(dicionumeri)"
   ]
  },
  {
   "cell_type": "code",
   "execution_count": 14,
   "metadata": {},
   "outputs": [
    {
     "name": "stdout",
     "output_type": "stream",
     "text": [
      "3\n"
     ]
    }
   ],
   "source": [
    "#4\n",
    "print(dicionumeri[\"autorais_gravadas\"])"
   ]
  },
  {
   "cell_type": "code",
   "execution_count": 15,
   "metadata": {},
   "outputs": [
    {
     "name": "stdout",
     "output_type": "stream",
     "text": [
      "{'banda': 'Numeri', 'autorais_gravadas': 3, 'instagram': 'numeri_oficial', 'lançamento_perspectivas': True, 'integrantes': 4, 'autorais_producao': 12, 'fox_eh_bobo': True}\n",
      "{'banda': 'Numeri', 'autorais_gravadas': 3, 'instagram': 'numeri_oficial', 'lançamento_perspectivas': True, 'integrantes': 4, 'autorais_producao': 12}\n"
     ]
    }
   ],
   "source": [
    "#5\n",
    "dicionumeri[\"fox_eh_bobo\"] = True\n",
    "print(dicionumeri)\n",
    "\n",
    "del dicionumeri[\"fox_eh_bobo\"]\n",
    "print(dicionumeri)"
   ]
  },
  {
   "attachments": {},
   "cell_type": "markdown",
   "metadata": {},
   "source": [
    "Depois de concluir cada exercício, crie um menu (semelhante à exposição acima) que trate as operações.<br>\n",
    ">Considere aplicar todo conceito com subalgoritmos"
   ]
  },
  {
   "cell_type": "code",
   "execution_count": 6,
   "metadata": {},
   "outputs": [
    {
     "name": "stdout",
     "output_type": "stream",
     "text": [
      "**Dicionário**\n",
      "banda: Numeri\n",
      "autorais_gravadas: 3\n",
      "instagram: numeri_oficial\n",
      "lançamento_perspectivas: False\n",
      "integrantes: 4\n",
      "blablabla: <class 'ValueError'>\n",
      "**Dicionário**\n",
      "banda: Numeri\n",
      "autorais_gravadas: 3\n",
      "instagram: numeri_oficial\n",
      "lançamento_perspectivas: False\n",
      "integrantes: 4\n",
      "blablabla: dkdkkdkdkdk\n",
      "**Dicionário**\n",
      "banda: Numeri\n",
      "autorais_gravadas: 3\n",
      "instagram: numeri_oficial\n",
      "lançamento_perspectivas: False\n",
      "integrantes: 4\n",
      "blablabla: dkdkkdkdkdk\n",
      "lalalala: dldldldldlldld\n",
      "Digite uma operação válida!\n",
      "**Dicionário**\n",
      "banda: Numeri\n",
      "autorais_gravadas: 3\n",
      "instagram: numeri_oficial\n",
      "lançamento_perspectivas: False\n",
      "integrantes: 4\n",
      "blablabla: dkdkkdkdkdk\n",
      "lalalala: dldldldldlldld\n"
     ]
    }
   ],
   "source": [
    "def exibir_dicionario(dicionario):\n",
    "    print(\"**Dicionário**\")\n",
    "    for key, value in dicionario.items():\n",
    "        print(f\"{key}: {value}\")\n",
    "\n",
    "\n",
    "def exibir_menu_escolha():\n",
    "    escolha = input(\"\"\"1 - Inserir um campo no dicionário\n",
    "2 - Alterar o valor de um campo\n",
    "3 - Exibir um campo específico\n",
    "4 - Remover um campo específico\n",
    "0 - SAIR\n",
    "\n",
    "Escolha qual operação deseja fazer: \"\"\")\n",
    "    return escolha\n",
    "\n",
    "\n",
    "def valor_conferir(tipo):\n",
    "    while True:\n",
    "        try:\n",
    "            valor = tipo(input(\"Insira o valor desta key: \"))\n",
    "            return valor\n",
    "        except ValueError:\n",
    "            print(\"ERRO: Valor inválido!\")\n",
    "\n",
    "\n",
    "def tipo_valor():\n",
    "    tipo_valor = input(\"Insira o tipo do valor desejado, [s]tring, [n]úmero, [b]ool: \").upper()\n",
    "        \n",
    "    match tipo_valor:\n",
    "        case \"S\":\n",
    "            valor = valor_conferir(str)\n",
    "            return valor\n",
    "        case \"N\":\n",
    "            valor = valor_conferir(float)\n",
    "            return valor\n",
    "        case \"B\":\n",
    "            valor = valor_conferir(bool)\n",
    "            return valor\n",
    "        case \"VOLTAR\":\n",
    "            return ValueError\n",
    "        case _:\n",
    "            print(\"ERRO: Tipo de valor inválido!\")\n",
    "            return ValueError\n",
    "\n",
    "\n",
    "\n",
    "def inserir_key(dicionario):\n",
    "    while True:\n",
    "\n",
    "        nova_key = input(\"Insira o nome da key, ou VOLTAR: \").lower()\n",
    "        if nova_key.upper() == \"VOLTAR\":\n",
    "            return\n",
    "        \n",
    "        if tipo_valor() != ValueError:\n",
    "            dicionario[nova_key] = tipo_valor()\n",
    "            break\n",
    "        else:\n",
    "            continue\n",
    "\n",
    "\n",
    "def alterar_valor(dicionario):\n",
    "    while True:\n",
    "        try:\n",
    "            escolha = input(f\"\"\"Digite o nome da key a qual quer mudar o valor:\n",
    "                            {exibir_dicionario(dicionario)}\n",
    "                            \"\"\")  \n",
    "            for key in dicionario.items():\n",
    "                if escolha == key:\n",
    "                    return escolha\n",
    "                \n",
    "        except ValueError:\n",
    "            print(\"ERRO: Nome da key inválido!\")\n",
    "            continue\n",
    "        \n",
    "\n",
    "\n",
    "while True:\n",
    "    exibir_dicionario(dicionumeri)\n",
    "    match exibir_menu_escolha():\n",
    "        case \"1\":\n",
    "            inserir_key(dicionumeri)\n",
    "        case \"2\":\n",
    "            alterar_valor(dicionumeri)\n",
    "\n",
    "        case \"0\":\n",
    "            break\n",
    "        case _:\n",
    "            print(\"Digite uma operação válida!\")\n",
    "            continue"
   ]
  }
 ],
 "metadata": {
  "kernelspec": {
   "display_name": "Python 3",
   "language": "python",
   "name": "python3"
  },
  "language_info": {
   "codemirror_mode": {
    "name": "ipython",
    "version": 3
   },
   "file_extension": ".py",
   "mimetype": "text/x-python",
   "name": "python",
   "nbconvert_exporter": "python",
   "pygments_lexer": "ipython3",
   "version": "3.11.4"
  },
  "orig_nbformat": 4
 },
 "nbformat": 4,
 "nbformat_minor": 2
}
